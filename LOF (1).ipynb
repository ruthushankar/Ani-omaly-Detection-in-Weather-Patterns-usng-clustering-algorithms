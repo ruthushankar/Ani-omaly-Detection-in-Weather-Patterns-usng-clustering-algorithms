{
  "nbformat": 4,
  "nbformat_minor": 0,
  "metadata": {
    "colab": {
      "name": "LOF.ipynb",
      "provenance": [],
      "collapsed_sections": [],
      "toc_visible": true
    },
    "kernelspec": {
      "name": "python3",
      "display_name": "Python 3"
    },
    "accelerator": "GPU"
  },
  "cells": [
    {
      "cell_type": "markdown",
      "metadata": {
        "id": "O8HKFn2P_B0i"
      },
      "source": [
        "# Anamoly Detection in weather patterns\n",
        "# Neural network(ANN) Approach\n",
        "\n",
        "## Project for Special Topic DS ML \n",
        "\n",
        "Team : \n",
        "\n",
        "\n",
        "*   A Anantha Krishna \n",
        "*   K Venkat Ramnan\n",
        "*   Khushi Sahay\n",
        "*   Ruthu Shankar\n",
        "\n"
      ]
    },
    {
      "cell_type": "markdown",
      "metadata": {
        "id": "rdmTwTdVsikn"
      },
      "source": [
        "Data            Num of samples\n",
        "Anomaly(1)            873\n",
        "Not Anomaly(0)      42,735"
      ]
    },
    {
      "cell_type": "markdown",
      "metadata": {
        "id": "6tyN6ocPBClw"
      },
      "source": [
        " # Version 1.0.0\n",
        " Start of this notebook\n",
        " 29 November 2020 \n",
        " 1800 hrs IST\n",
        " "
      ]
    },
    {
      "cell_type": "code",
      "metadata": {
        "id": "mfi6emroSYWg",
        "colab": {
          "base_uri": "https://localhost:8080/",
          "height": 370
        },
        "outputId": "f9c4c209-b44a-4168-825b-649fc80d9cdc"
      },
      "source": [
        "df=pd.read_csv('/content/ny_lof.csv')"
      ],
      "execution_count": null,
      "outputs": [
        {
          "output_type": "error",
          "ename": "FileNotFoundError",
          "evalue": "ignored",
          "traceback": [
            "\u001b[0;31m---------------------------------------------------------------------------\u001b[0m",
            "\u001b[0;31mFileNotFoundError\u001b[0m                         Traceback (most recent call last)",
            "\u001b[0;32m<ipython-input-3-7d95ab68ef3c>\u001b[0m in \u001b[0;36m<module>\u001b[0;34m()\u001b[0m\n\u001b[0;32m----> 1\u001b[0;31m \u001b[0mdf\u001b[0m\u001b[0;34m=\u001b[0m\u001b[0mpd\u001b[0m\u001b[0;34m.\u001b[0m\u001b[0mread_csv\u001b[0m\u001b[0;34m(\u001b[0m\u001b[0;34m'/content/ny_lof.csv'\u001b[0m\u001b[0;34m)\u001b[0m\u001b[0;34m\u001b[0m\u001b[0;34m\u001b[0m\u001b[0m\n\u001b[0m",
            "\u001b[0;32m/usr/local/lib/python3.7/dist-packages/pandas/io/parsers.py\u001b[0m in \u001b[0;36mread_csv\u001b[0;34m(filepath_or_buffer, sep, delimiter, header, names, index_col, usecols, squeeze, prefix, mangle_dupe_cols, dtype, engine, converters, true_values, false_values, skipinitialspace, skiprows, skipfooter, nrows, na_values, keep_default_na, na_filter, verbose, skip_blank_lines, parse_dates, infer_datetime_format, keep_date_col, date_parser, dayfirst, cache_dates, iterator, chunksize, compression, thousands, decimal, lineterminator, quotechar, quoting, doublequote, escapechar, comment, encoding, dialect, error_bad_lines, warn_bad_lines, delim_whitespace, low_memory, memory_map, float_precision)\u001b[0m\n\u001b[1;32m    686\u001b[0m     )\n\u001b[1;32m    687\u001b[0m \u001b[0;34m\u001b[0m\u001b[0m\n\u001b[0;32m--> 688\u001b[0;31m     \u001b[0;32mreturn\u001b[0m \u001b[0m_read\u001b[0m\u001b[0;34m(\u001b[0m\u001b[0mfilepath_or_buffer\u001b[0m\u001b[0;34m,\u001b[0m \u001b[0mkwds\u001b[0m\u001b[0;34m)\u001b[0m\u001b[0;34m\u001b[0m\u001b[0;34m\u001b[0m\u001b[0m\n\u001b[0m\u001b[1;32m    689\u001b[0m \u001b[0;34m\u001b[0m\u001b[0m\n\u001b[1;32m    690\u001b[0m \u001b[0;34m\u001b[0m\u001b[0m\n",
            "\u001b[0;32m/usr/local/lib/python3.7/dist-packages/pandas/io/parsers.py\u001b[0m in \u001b[0;36m_read\u001b[0;34m(filepath_or_buffer, kwds)\u001b[0m\n\u001b[1;32m    452\u001b[0m \u001b[0;34m\u001b[0m\u001b[0m\n\u001b[1;32m    453\u001b[0m     \u001b[0;31m# Create the parser.\u001b[0m\u001b[0;34m\u001b[0m\u001b[0;34m\u001b[0m\u001b[0;34m\u001b[0m\u001b[0m\n\u001b[0;32m--> 454\u001b[0;31m     \u001b[0mparser\u001b[0m \u001b[0;34m=\u001b[0m \u001b[0mTextFileReader\u001b[0m\u001b[0;34m(\u001b[0m\u001b[0mfp_or_buf\u001b[0m\u001b[0;34m,\u001b[0m \u001b[0;34m**\u001b[0m\u001b[0mkwds\u001b[0m\u001b[0;34m)\u001b[0m\u001b[0;34m\u001b[0m\u001b[0;34m\u001b[0m\u001b[0m\n\u001b[0m\u001b[1;32m    455\u001b[0m \u001b[0;34m\u001b[0m\u001b[0m\n\u001b[1;32m    456\u001b[0m     \u001b[0;32mif\u001b[0m \u001b[0mchunksize\u001b[0m \u001b[0;32mor\u001b[0m \u001b[0miterator\u001b[0m\u001b[0;34m:\u001b[0m\u001b[0;34m\u001b[0m\u001b[0;34m\u001b[0m\u001b[0m\n",
            "\u001b[0;32m/usr/local/lib/python3.7/dist-packages/pandas/io/parsers.py\u001b[0m in \u001b[0;36m__init__\u001b[0;34m(self, f, engine, **kwds)\u001b[0m\n\u001b[1;32m    946\u001b[0m             \u001b[0mself\u001b[0m\u001b[0;34m.\u001b[0m\u001b[0moptions\u001b[0m\u001b[0;34m[\u001b[0m\u001b[0;34m\"has_index_names\"\u001b[0m\u001b[0;34m]\u001b[0m \u001b[0;34m=\u001b[0m \u001b[0mkwds\u001b[0m\u001b[0;34m[\u001b[0m\u001b[0;34m\"has_index_names\"\u001b[0m\u001b[0;34m]\u001b[0m\u001b[0;34m\u001b[0m\u001b[0;34m\u001b[0m\u001b[0m\n\u001b[1;32m    947\u001b[0m \u001b[0;34m\u001b[0m\u001b[0m\n\u001b[0;32m--> 948\u001b[0;31m         \u001b[0mself\u001b[0m\u001b[0;34m.\u001b[0m\u001b[0m_make_engine\u001b[0m\u001b[0;34m(\u001b[0m\u001b[0mself\u001b[0m\u001b[0;34m.\u001b[0m\u001b[0mengine\u001b[0m\u001b[0;34m)\u001b[0m\u001b[0;34m\u001b[0m\u001b[0;34m\u001b[0m\u001b[0m\n\u001b[0m\u001b[1;32m    949\u001b[0m \u001b[0;34m\u001b[0m\u001b[0m\n\u001b[1;32m    950\u001b[0m     \u001b[0;32mdef\u001b[0m \u001b[0mclose\u001b[0m\u001b[0;34m(\u001b[0m\u001b[0mself\u001b[0m\u001b[0;34m)\u001b[0m\u001b[0;34m:\u001b[0m\u001b[0;34m\u001b[0m\u001b[0;34m\u001b[0m\u001b[0m\n",
            "\u001b[0;32m/usr/local/lib/python3.7/dist-packages/pandas/io/parsers.py\u001b[0m in \u001b[0;36m_make_engine\u001b[0;34m(self, engine)\u001b[0m\n\u001b[1;32m   1178\u001b[0m     \u001b[0;32mdef\u001b[0m \u001b[0m_make_engine\u001b[0m\u001b[0;34m(\u001b[0m\u001b[0mself\u001b[0m\u001b[0;34m,\u001b[0m \u001b[0mengine\u001b[0m\u001b[0;34m=\u001b[0m\u001b[0;34m\"c\"\u001b[0m\u001b[0;34m)\u001b[0m\u001b[0;34m:\u001b[0m\u001b[0;34m\u001b[0m\u001b[0;34m\u001b[0m\u001b[0m\n\u001b[1;32m   1179\u001b[0m         \u001b[0;32mif\u001b[0m \u001b[0mengine\u001b[0m \u001b[0;34m==\u001b[0m \u001b[0;34m\"c\"\u001b[0m\u001b[0;34m:\u001b[0m\u001b[0;34m\u001b[0m\u001b[0;34m\u001b[0m\u001b[0m\n\u001b[0;32m-> 1180\u001b[0;31m             \u001b[0mself\u001b[0m\u001b[0;34m.\u001b[0m\u001b[0m_engine\u001b[0m \u001b[0;34m=\u001b[0m \u001b[0mCParserWrapper\u001b[0m\u001b[0;34m(\u001b[0m\u001b[0mself\u001b[0m\u001b[0;34m.\u001b[0m\u001b[0mf\u001b[0m\u001b[0;34m,\u001b[0m \u001b[0;34m**\u001b[0m\u001b[0mself\u001b[0m\u001b[0;34m.\u001b[0m\u001b[0moptions\u001b[0m\u001b[0;34m)\u001b[0m\u001b[0;34m\u001b[0m\u001b[0;34m\u001b[0m\u001b[0m\n\u001b[0m\u001b[1;32m   1181\u001b[0m         \u001b[0;32melse\u001b[0m\u001b[0;34m:\u001b[0m\u001b[0;34m\u001b[0m\u001b[0;34m\u001b[0m\u001b[0m\n\u001b[1;32m   1182\u001b[0m             \u001b[0;32mif\u001b[0m \u001b[0mengine\u001b[0m \u001b[0;34m==\u001b[0m \u001b[0;34m\"python\"\u001b[0m\u001b[0;34m:\u001b[0m\u001b[0;34m\u001b[0m\u001b[0;34m\u001b[0m\u001b[0m\n",
            "\u001b[0;32m/usr/local/lib/python3.7/dist-packages/pandas/io/parsers.py\u001b[0m in \u001b[0;36m__init__\u001b[0;34m(self, src, **kwds)\u001b[0m\n\u001b[1;32m   2008\u001b[0m         \u001b[0mkwds\u001b[0m\u001b[0;34m[\u001b[0m\u001b[0;34m\"usecols\"\u001b[0m\u001b[0;34m]\u001b[0m \u001b[0;34m=\u001b[0m \u001b[0mself\u001b[0m\u001b[0;34m.\u001b[0m\u001b[0musecols\u001b[0m\u001b[0;34m\u001b[0m\u001b[0;34m\u001b[0m\u001b[0m\n\u001b[1;32m   2009\u001b[0m \u001b[0;34m\u001b[0m\u001b[0m\n\u001b[0;32m-> 2010\u001b[0;31m         \u001b[0mself\u001b[0m\u001b[0;34m.\u001b[0m\u001b[0m_reader\u001b[0m \u001b[0;34m=\u001b[0m \u001b[0mparsers\u001b[0m\u001b[0;34m.\u001b[0m\u001b[0mTextReader\u001b[0m\u001b[0;34m(\u001b[0m\u001b[0msrc\u001b[0m\u001b[0;34m,\u001b[0m \u001b[0;34m**\u001b[0m\u001b[0mkwds\u001b[0m\u001b[0;34m)\u001b[0m\u001b[0;34m\u001b[0m\u001b[0;34m\u001b[0m\u001b[0m\n\u001b[0m\u001b[1;32m   2011\u001b[0m         \u001b[0mself\u001b[0m\u001b[0;34m.\u001b[0m\u001b[0munnamed_cols\u001b[0m \u001b[0;34m=\u001b[0m \u001b[0mself\u001b[0m\u001b[0;34m.\u001b[0m\u001b[0m_reader\u001b[0m\u001b[0;34m.\u001b[0m\u001b[0munnamed_cols\u001b[0m\u001b[0;34m\u001b[0m\u001b[0;34m\u001b[0m\u001b[0m\n\u001b[1;32m   2012\u001b[0m \u001b[0;34m\u001b[0m\u001b[0m\n",
            "\u001b[0;32mpandas/_libs/parsers.pyx\u001b[0m in \u001b[0;36mpandas._libs.parsers.TextReader.__cinit__\u001b[0;34m()\u001b[0m\n",
            "\u001b[0;32mpandas/_libs/parsers.pyx\u001b[0m in \u001b[0;36mpandas._libs.parsers.TextReader._setup_parser_source\u001b[0;34m()\u001b[0m\n",
            "\u001b[0;31mFileNotFoundError\u001b[0m: [Errno 2] No such file or directory: '/content/ny_lof.csv'"
          ]
        }
      ]
    },
    {
      "cell_type": "code",
      "metadata": {
        "colab": {
          "base_uri": "https://localhost:8080/"
        },
        "id": "x7KKlODalk9o",
        "outputId": "18cb406d-ac64-42d3-acf2-440571a84dcc"
      },
      "source": [
        "df.shape"
      ],
      "execution_count": null,
      "outputs": [
        {
          "output_type": "execute_result",
          "data": {
            "text/plain": [
              "(43609, 9)"
            ]
          },
          "metadata": {
            "tags": []
          },
          "execution_count": 34
        }
      ]
    },
    {
      "cell_type": "code",
      "metadata": {
        "id": "x9tIWWmGKqIN"
      },
      "source": [
        "from google.colab import drive\n",
        "drive.mount('/content/drive')"
      ],
      "execution_count": null,
      "outputs": []
    },
    {
      "cell_type": "code",
      "metadata": {
        "id": "g_hpAS2ZKsst"
      },
      "source": [
        "import pandas as pd"
      ],
      "execution_count": null,
      "outputs": []
    },
    {
      "cell_type": "code",
      "metadata": {
        "colab": {
          "base_uri": "https://localhost:8080/"
        },
        "id": "9z4Vuivdlk5b",
        "outputId": "976bb4c5-fefc-4d6d-d477-e290dd4187be"
      },
      "source": [
        "df.isnull().sum()"
      ],
      "execution_count": null,
      "outputs": [
        {
          "output_type": "execute_result",
          "data": {
            "text/plain": [
              "datetime          0\n",
              "Latitude          0\n",
              "Longitude         0\n",
              "Humidity          0\n",
              "Pressure          0\n",
              "Temperature       0\n",
              "Wind_Direction    0\n",
              "Wind_Speed        0\n",
              "anomaly           0\n",
              "dtype: int64"
            ]
          },
          "metadata": {
            "tags": []
          },
          "execution_count": 35
        }
      ]
    },
    {
      "cell_type": "code",
      "metadata": {
        "id": "EhA1HEA6Sh_x",
        "colab": {
          "base_uri": "https://localhost:8080/",
          "height": 402
        },
        "outputId": "a624d5fe-a0d4-4c7c-9283-8e8ead87d387"
      },
      "source": [
        "df"
      ],
      "execution_count": null,
      "outputs": [
        {
          "output_type": "execute_result",
          "data": {
            "text/html": [
              "<div>\n",
              "<style scoped>\n",
              "    .dataframe tbody tr th:only-of-type {\n",
              "        vertical-align: middle;\n",
              "    }\n",
              "\n",
              "    .dataframe tbody tr th {\n",
              "        vertical-align: top;\n",
              "    }\n",
              "\n",
              "    .dataframe thead th {\n",
              "        text-align: right;\n",
              "    }\n",
              "</style>\n",
              "<table border=\"1\" class=\"dataframe\">\n",
              "  <thead>\n",
              "    <tr style=\"text-align: right;\">\n",
              "      <th></th>\n",
              "      <th>datetime</th>\n",
              "      <th>Latitude</th>\n",
              "      <th>Longitude</th>\n",
              "      <th>Humidity</th>\n",
              "      <th>Pressure</th>\n",
              "      <th>Temperature</th>\n",
              "      <th>Wind_Direction</th>\n",
              "      <th>Wind_Speed</th>\n",
              "      <th>anomaly</th>\n",
              "    </tr>\n",
              "  </thead>\n",
              "  <tbody>\n",
              "    <tr>\n",
              "      <th>0</th>\n",
              "      <td>01/10/2012 13:00</td>\n",
              "      <td>40.714272</td>\n",
              "      <td>-74.005966</td>\n",
              "      <td>58</td>\n",
              "      <td>1012</td>\n",
              "      <td>288.220000</td>\n",
              "      <td>260</td>\n",
              "      <td>7</td>\n",
              "      <td>1</td>\n",
              "    </tr>\n",
              "    <tr>\n",
              "      <th>1</th>\n",
              "      <td>01/10/2012 14:00</td>\n",
              "      <td>40.714272</td>\n",
              "      <td>-74.005966</td>\n",
              "      <td>57</td>\n",
              "      <td>1012</td>\n",
              "      <td>288.247676</td>\n",
              "      <td>260</td>\n",
              "      <td>7</td>\n",
              "      <td>0</td>\n",
              "    </tr>\n",
              "    <tr>\n",
              "      <th>2</th>\n",
              "      <td>01/10/2012 15:00</td>\n",
              "      <td>40.714272</td>\n",
              "      <td>-74.005966</td>\n",
              "      <td>57</td>\n",
              "      <td>1012</td>\n",
              "      <td>288.326940</td>\n",
              "      <td>260</td>\n",
              "      <td>7</td>\n",
              "      <td>0</td>\n",
              "    </tr>\n",
              "    <tr>\n",
              "      <th>3</th>\n",
              "      <td>01/10/2012 16:00</td>\n",
              "      <td>40.714272</td>\n",
              "      <td>-74.005966</td>\n",
              "      <td>57</td>\n",
              "      <td>1012</td>\n",
              "      <td>288.406203</td>\n",
              "      <td>260</td>\n",
              "      <td>7</td>\n",
              "      <td>0</td>\n",
              "    </tr>\n",
              "    <tr>\n",
              "      <th>4</th>\n",
              "      <td>01/10/2012 17:00</td>\n",
              "      <td>40.714272</td>\n",
              "      <td>-74.005966</td>\n",
              "      <td>57</td>\n",
              "      <td>1012</td>\n",
              "      <td>288.485467</td>\n",
              "      <td>261</td>\n",
              "      <td>6</td>\n",
              "      <td>1</td>\n",
              "    </tr>\n",
              "    <tr>\n",
              "      <th>...</th>\n",
              "      <td>...</td>\n",
              "      <td>...</td>\n",
              "      <td>...</td>\n",
              "      <td>...</td>\n",
              "      <td>...</td>\n",
              "      <td>...</td>\n",
              "      <td>...</td>\n",
              "      <td>...</td>\n",
              "      <td>...</td>\n",
              "    </tr>\n",
              "    <tr>\n",
              "      <th>43604</th>\n",
              "      <td>27/10/2017 20:00</td>\n",
              "      <td>40.714272</td>\n",
              "      <td>-74.005966</td>\n",
              "      <td>36</td>\n",
              "      <td>1019</td>\n",
              "      <td>289.980000</td>\n",
              "      <td>0</td>\n",
              "      <td>3</td>\n",
              "      <td>0</td>\n",
              "    </tr>\n",
              "    <tr>\n",
              "      <th>43605</th>\n",
              "      <td>27/10/2017 21:00</td>\n",
              "      <td>40.714272</td>\n",
              "      <td>-74.005966</td>\n",
              "      <td>38</td>\n",
              "      <td>1019</td>\n",
              "      <td>289.480000</td>\n",
              "      <td>0</td>\n",
              "      <td>1</td>\n",
              "      <td>0</td>\n",
              "    </tr>\n",
              "    <tr>\n",
              "      <th>43606</th>\n",
              "      <td>27/10/2017 22:00</td>\n",
              "      <td>40.714272</td>\n",
              "      <td>-74.005966</td>\n",
              "      <td>54</td>\n",
              "      <td>1019</td>\n",
              "      <td>287.920000</td>\n",
              "      <td>196</td>\n",
              "      <td>2</td>\n",
              "      <td>0</td>\n",
              "    </tr>\n",
              "    <tr>\n",
              "      <th>43607</th>\n",
              "      <td>27/10/2017 23:00</td>\n",
              "      <td>40.714272</td>\n",
              "      <td>-74.005966</td>\n",
              "      <td>62</td>\n",
              "      <td>1020</td>\n",
              "      <td>285.830000</td>\n",
              "      <td>171</td>\n",
              "      <td>3</td>\n",
              "      <td>0</td>\n",
              "    </tr>\n",
              "    <tr>\n",
              "      <th>43608</th>\n",
              "      <td>28/10/2017 00:00</td>\n",
              "      <td>40.714272</td>\n",
              "      <td>-74.005966</td>\n",
              "      <td>58</td>\n",
              "      <td>1020</td>\n",
              "      <td>284.980000</td>\n",
              "      <td>0</td>\n",
              "      <td>2</td>\n",
              "      <td>0</td>\n",
              "    </tr>\n",
              "  </tbody>\n",
              "</table>\n",
              "<p>43609 rows × 9 columns</p>\n",
              "</div>"
            ],
            "text/plain": [
              "               datetime   Latitude  ...  Wind_Speed  anomaly\n",
              "0      01/10/2012 13:00  40.714272  ...           7        1\n",
              "1      01/10/2012 14:00  40.714272  ...           7        0\n",
              "2      01/10/2012 15:00  40.714272  ...           7        0\n",
              "3      01/10/2012 16:00  40.714272  ...           7        0\n",
              "4      01/10/2012 17:00  40.714272  ...           6        1\n",
              "...                 ...        ...  ...         ...      ...\n",
              "43604  27/10/2017 20:00  40.714272  ...           3        0\n",
              "43605  27/10/2017 21:00  40.714272  ...           1        0\n",
              "43606  27/10/2017 22:00  40.714272  ...           2        0\n",
              "43607  27/10/2017 23:00  40.714272  ...           3        0\n",
              "43608  28/10/2017 00:00  40.714272  ...           2        0\n",
              "\n",
              "[43609 rows x 9 columns]"
            ]
          },
          "metadata": {
            "tags": []
          },
          "execution_count": 36
        }
      ]
    },
    {
      "cell_type": "code",
      "metadata": {
        "colab": {
          "base_uri": "https://localhost:8080/",
          "height": 195
        },
        "id": "D3mS269BD6p6",
        "outputId": "175ae45a-d678-4317-af1c-64eda77af036"
      },
      "source": [
        "df.head()"
      ],
      "execution_count": null,
      "outputs": [
        {
          "output_type": "execute_result",
          "data": {
            "text/html": [
              "<div>\n",
              "<style scoped>\n",
              "    .dataframe tbody tr th:only-of-type {\n",
              "        vertical-align: middle;\n",
              "    }\n",
              "\n",
              "    .dataframe tbody tr th {\n",
              "        vertical-align: top;\n",
              "    }\n",
              "\n",
              "    .dataframe thead th {\n",
              "        text-align: right;\n",
              "    }\n",
              "</style>\n",
              "<table border=\"1\" class=\"dataframe\">\n",
              "  <thead>\n",
              "    <tr style=\"text-align: right;\">\n",
              "      <th></th>\n",
              "      <th>datetime</th>\n",
              "      <th>Latitude</th>\n",
              "      <th>Longitude</th>\n",
              "      <th>Humidity</th>\n",
              "      <th>Pressure</th>\n",
              "      <th>Temperature</th>\n",
              "      <th>Wind_Direction</th>\n",
              "      <th>Wind_Speed</th>\n",
              "      <th>anomaly</th>\n",
              "    </tr>\n",
              "  </thead>\n",
              "  <tbody>\n",
              "    <tr>\n",
              "      <th>0</th>\n",
              "      <td>01/10/2012 13:00</td>\n",
              "      <td>40.714272</td>\n",
              "      <td>-74.005966</td>\n",
              "      <td>58</td>\n",
              "      <td>1012</td>\n",
              "      <td>288.220000</td>\n",
              "      <td>260</td>\n",
              "      <td>7</td>\n",
              "      <td>1</td>\n",
              "    </tr>\n",
              "    <tr>\n",
              "      <th>1</th>\n",
              "      <td>01/10/2012 14:00</td>\n",
              "      <td>40.714272</td>\n",
              "      <td>-74.005966</td>\n",
              "      <td>57</td>\n",
              "      <td>1012</td>\n",
              "      <td>288.247676</td>\n",
              "      <td>260</td>\n",
              "      <td>7</td>\n",
              "      <td>0</td>\n",
              "    </tr>\n",
              "    <tr>\n",
              "      <th>2</th>\n",
              "      <td>01/10/2012 15:00</td>\n",
              "      <td>40.714272</td>\n",
              "      <td>-74.005966</td>\n",
              "      <td>57</td>\n",
              "      <td>1012</td>\n",
              "      <td>288.326940</td>\n",
              "      <td>260</td>\n",
              "      <td>7</td>\n",
              "      <td>0</td>\n",
              "    </tr>\n",
              "    <tr>\n",
              "      <th>3</th>\n",
              "      <td>01/10/2012 16:00</td>\n",
              "      <td>40.714272</td>\n",
              "      <td>-74.005966</td>\n",
              "      <td>57</td>\n",
              "      <td>1012</td>\n",
              "      <td>288.406203</td>\n",
              "      <td>260</td>\n",
              "      <td>7</td>\n",
              "      <td>0</td>\n",
              "    </tr>\n",
              "    <tr>\n",
              "      <th>4</th>\n",
              "      <td>01/10/2012 17:00</td>\n",
              "      <td>40.714272</td>\n",
              "      <td>-74.005966</td>\n",
              "      <td>57</td>\n",
              "      <td>1012</td>\n",
              "      <td>288.485467</td>\n",
              "      <td>261</td>\n",
              "      <td>6</td>\n",
              "      <td>1</td>\n",
              "    </tr>\n",
              "  </tbody>\n",
              "</table>\n",
              "</div>"
            ],
            "text/plain": [
              "           datetime   Latitude  Longitude  ...  Wind_Direction  Wind_Speed  anomaly\n",
              "0  01/10/2012 13:00  40.714272 -74.005966  ...             260           7        1\n",
              "1  01/10/2012 14:00  40.714272 -74.005966  ...             260           7        0\n",
              "2  01/10/2012 15:00  40.714272 -74.005966  ...             260           7        0\n",
              "3  01/10/2012 16:00  40.714272 -74.005966  ...             260           7        0\n",
              "4  01/10/2012 17:00  40.714272 -74.005966  ...             261           6        1\n",
              "\n",
              "[5 rows x 9 columns]"
            ]
          },
          "metadata": {
            "tags": []
          },
          "execution_count": 37
        }
      ]
    },
    {
      "cell_type": "code",
      "metadata": {
        "id": "isGtWgjY_vCN"
      },
      "source": [
        "del df['datetime']"
      ],
      "execution_count": null,
      "outputs": []
    },
    {
      "cell_type": "code",
      "metadata": {
        "colab": {
          "base_uri": "https://localhost:8080/",
          "height": 195
        },
        "id": "5GBM8pU5CtT1",
        "outputId": "00795da7-668d-4305-aaf9-d1f6c033fc8c"
      },
      "source": [
        "df.head()"
      ],
      "execution_count": null,
      "outputs": [
        {
          "output_type": "execute_result",
          "data": {
            "text/html": [
              "<div>\n",
              "<style scoped>\n",
              "    .dataframe tbody tr th:only-of-type {\n",
              "        vertical-align: middle;\n",
              "    }\n",
              "\n",
              "    .dataframe tbody tr th {\n",
              "        vertical-align: top;\n",
              "    }\n",
              "\n",
              "    .dataframe thead th {\n",
              "        text-align: right;\n",
              "    }\n",
              "</style>\n",
              "<table border=\"1\" class=\"dataframe\">\n",
              "  <thead>\n",
              "    <tr style=\"text-align: right;\">\n",
              "      <th></th>\n",
              "      <th>Latitude</th>\n",
              "      <th>Longitude</th>\n",
              "      <th>Humidity</th>\n",
              "      <th>Pressure</th>\n",
              "      <th>Temperature</th>\n",
              "      <th>Wind_Direction</th>\n",
              "      <th>Wind_Speed</th>\n",
              "      <th>anomaly</th>\n",
              "    </tr>\n",
              "  </thead>\n",
              "  <tbody>\n",
              "    <tr>\n",
              "      <th>0</th>\n",
              "      <td>40.714272</td>\n",
              "      <td>-74.005966</td>\n",
              "      <td>58</td>\n",
              "      <td>1012</td>\n",
              "      <td>288.220000</td>\n",
              "      <td>260</td>\n",
              "      <td>7</td>\n",
              "      <td>1</td>\n",
              "    </tr>\n",
              "    <tr>\n",
              "      <th>1</th>\n",
              "      <td>40.714272</td>\n",
              "      <td>-74.005966</td>\n",
              "      <td>57</td>\n",
              "      <td>1012</td>\n",
              "      <td>288.247676</td>\n",
              "      <td>260</td>\n",
              "      <td>7</td>\n",
              "      <td>0</td>\n",
              "    </tr>\n",
              "    <tr>\n",
              "      <th>2</th>\n",
              "      <td>40.714272</td>\n",
              "      <td>-74.005966</td>\n",
              "      <td>57</td>\n",
              "      <td>1012</td>\n",
              "      <td>288.326940</td>\n",
              "      <td>260</td>\n",
              "      <td>7</td>\n",
              "      <td>0</td>\n",
              "    </tr>\n",
              "    <tr>\n",
              "      <th>3</th>\n",
              "      <td>40.714272</td>\n",
              "      <td>-74.005966</td>\n",
              "      <td>57</td>\n",
              "      <td>1012</td>\n",
              "      <td>288.406203</td>\n",
              "      <td>260</td>\n",
              "      <td>7</td>\n",
              "      <td>0</td>\n",
              "    </tr>\n",
              "    <tr>\n",
              "      <th>4</th>\n",
              "      <td>40.714272</td>\n",
              "      <td>-74.005966</td>\n",
              "      <td>57</td>\n",
              "      <td>1012</td>\n",
              "      <td>288.485467</td>\n",
              "      <td>261</td>\n",
              "      <td>6</td>\n",
              "      <td>1</td>\n",
              "    </tr>\n",
              "  </tbody>\n",
              "</table>\n",
              "</div>"
            ],
            "text/plain": [
              "    Latitude  Longitude  Humidity  ...  Wind_Direction  Wind_Speed  anomaly\n",
              "0  40.714272 -74.005966        58  ...             260           7        1\n",
              "1  40.714272 -74.005966        57  ...             260           7        0\n",
              "2  40.714272 -74.005966        57  ...             260           7        0\n",
              "3  40.714272 -74.005966        57  ...             260           7        0\n",
              "4  40.714272 -74.005966        57  ...             261           6        1\n",
              "\n",
              "[5 rows x 8 columns]"
            ]
          },
          "metadata": {
            "tags": []
          },
          "execution_count": 39
        }
      ]
    },
    {
      "cell_type": "code",
      "metadata": {
        "id": "dWrW3JK8B5n6"
      },
      "source": [
        "X= df.iloc[:, :-1].values\n",
        "y = df.iloc[:, 7].values"
      ],
      "execution_count": null,
      "outputs": []
    },
    {
      "cell_type": "code",
      "metadata": {
        "colab": {
          "base_uri": "https://localhost:8080/"
        },
        "id": "_MxIN5PDEa_q",
        "outputId": "1d4a2cc7-d533-4a78-db1d-2360896c08fb"
      },
      "source": [
        "y"
      ],
      "execution_count": null,
      "outputs": [
        {
          "output_type": "execute_result",
          "data": {
            "text/plain": [
              "array([1, 0, 0, ..., 0, 0, 0])"
            ]
          },
          "metadata": {
            "tags": []
          },
          "execution_count": 41
        }
      ]
    },
    {
      "cell_type": "code",
      "metadata": {
        "id": "zq5Xk5aICUE4"
      },
      "source": [
        "from sklearn.model_selection import train_test_split\n",
        "X_train, X_test, y_train, y_test = train_test_split(X, y, test_size=0.20, random_state=42)"
      ],
      "execution_count": null,
      "outputs": []
    },
    {
      "cell_type": "code",
      "metadata": {
        "id": "k9yTpgwECUHo"
      },
      "source": [
        "from tensorflow.keras.layers import Input, Dense, Activation,Dropout\n",
        "from tensorflow.keras.models import Model"
      ],
      "execution_count": null,
      "outputs": []
    },
    {
      "cell_type": "code",
      "metadata": {
        "id": "wRHT_AKbCUKR"
      },
      "source": [
        "input_layer = Input(shape=(X.shape[1],))\n",
        "dense_layer_1 = Dense(128, activation='relu')(input_layer)\n",
        "dense_layer_2 = Dense(128, activation='relu')(dense_layer_1)\n",
        "dense_layer_3 = Dense(128, activation='relu')(dense_layer_2)\n",
        "output = Dense(1, activation='sigmoid')(dense_layer_3) # Can be sigmoid as well \n",
        "\n",
        "model = Model(inputs=input_layer, outputs=output)\n",
        "model.compile(loss='binary_crossentropy', optimizer='adam', metrics=['acc'])"
      ],
      "execution_count": null,
      "outputs": []
    },
    {
      "cell_type": "code",
      "metadata": {
        "colab": {
          "base_uri": "https://localhost:8080/"
        },
        "id": "bTbqFRa_CUM1",
        "outputId": "9cadb731-e080-416d-aa68-5a055600e5f0"
      },
      "source": [
        "print(model.summary())"
      ],
      "execution_count": null,
      "outputs": [
        {
          "output_type": "stream",
          "text": [
            "Model: \"functional_5\"\n",
            "_________________________________________________________________\n",
            "Layer (type)                 Output Shape              Param #   \n",
            "=================================================================\n",
            "input_3 (InputLayer)         [(None, 7)]               0         \n",
            "_________________________________________________________________\n",
            "dense_8 (Dense)              (None, 128)               1024      \n",
            "_________________________________________________________________\n",
            "dense_9 (Dense)              (None, 128)               16512     \n",
            "_________________________________________________________________\n",
            "dense_10 (Dense)             (None, 128)               16512     \n",
            "_________________________________________________________________\n",
            "dense_11 (Dense)             (None, 1)                 129       \n",
            "=================================================================\n",
            "Total params: 34,177\n",
            "Trainable params: 34,177\n",
            "Non-trainable params: 0\n",
            "_________________________________________________________________\n",
            "None\n"
          ],
          "name": "stdout"
        }
      ]
    },
    {
      "cell_type": "code",
      "metadata": {
        "colab": {
          "base_uri": "https://localhost:8080/"
        },
        "id": "txgZ9Sm9CUPY",
        "outputId": "8dd44003-55f1-4d13-e9f2-17cd4abe925b"
      },
      "source": [
        "history = model.fit(X_train, y_train, batch_size=250, epochs=100, verbose=1, validation_split=0.2)"
      ],
      "execution_count": null,
      "outputs": [
        {
          "output_type": "stream",
          "text": [
            "Epoch 1/100\n",
            "112/112 [==============================] - 0s 4ms/step - loss: 1.4726 - acc: 0.9629 - val_loss: 1.5637 - val_acc: 0.9802\n",
            "Epoch 2/100\n",
            "112/112 [==============================] - 0s 3ms/step - loss: 0.4837 - acc: 0.9709 - val_loss: 0.1039 - val_acc: 0.9802\n",
            "Epoch 3/100\n",
            "112/112 [==============================] - 0s 3ms/step - loss: 0.1185 - acc: 0.9799 - val_loss: 0.0936 - val_acc: 0.9802\n",
            "Epoch 4/100\n",
            "112/112 [==============================] - 0s 3ms/step - loss: 0.1041 - acc: 0.9799 - val_loss: 0.1220 - val_acc: 0.9802\n",
            "Epoch 5/100\n",
            "112/112 [==============================] - 0s 3ms/step - loss: 0.1064 - acc: 0.9799 - val_loss: 0.1033 - val_acc: 0.9802\n",
            "Epoch 6/100\n",
            "112/112 [==============================] - 0s 3ms/step - loss: 0.1014 - acc: 0.9799 - val_loss: 0.1001 - val_acc: 0.9802\n",
            "Epoch 7/100\n",
            "112/112 [==============================] - 0s 3ms/step - loss: 0.1153 - acc: 0.9799 - val_loss: 0.1051 - val_acc: 0.9802\n",
            "Epoch 8/100\n",
            "112/112 [==============================] - 0s 3ms/step - loss: 0.1128 - acc: 0.9799 - val_loss: 0.1328 - val_acc: 0.9802\n",
            "Epoch 9/100\n",
            "112/112 [==============================] - 0s 3ms/step - loss: 0.4285 - acc: 0.9734 - val_loss: 0.5537 - val_acc: 0.9802\n",
            "Epoch 10/100\n",
            "112/112 [==============================] - 0s 3ms/step - loss: 0.6268 - acc: 0.9585 - val_loss: 0.1979 - val_acc: 0.9802\n",
            "Epoch 11/100\n",
            "112/112 [==============================] - 0s 3ms/step - loss: 0.1076 - acc: 0.9799 - val_loss: 0.0941 - val_acc: 0.9802\n",
            "Epoch 12/100\n",
            "112/112 [==============================] - 0s 3ms/step - loss: 0.1018 - acc: 0.9799 - val_loss: 0.0958 - val_acc: 0.9802\n",
            "Epoch 13/100\n",
            "112/112 [==============================] - 0s 3ms/step - loss: 0.1016 - acc: 0.9799 - val_loss: 0.1000 - val_acc: 0.9802\n",
            "Epoch 14/100\n",
            "112/112 [==============================] - 0s 3ms/step - loss: 0.1011 - acc: 0.9799 - val_loss: 0.0935 - val_acc: 0.9802\n",
            "Epoch 15/100\n",
            "112/112 [==============================] - 0s 3ms/step - loss: 0.1021 - acc: 0.9799 - val_loss: 0.0936 - val_acc: 0.9802\n",
            "Epoch 16/100\n",
            "112/112 [==============================] - 0s 3ms/step - loss: 0.1004 - acc: 0.9799 - val_loss: 0.0936 - val_acc: 0.9802\n",
            "Epoch 17/100\n",
            "112/112 [==============================] - 0s 3ms/step - loss: 0.1012 - acc: 0.9799 - val_loss: 0.0953 - val_acc: 0.9802\n",
            "Epoch 18/100\n",
            "112/112 [==============================] - 0s 3ms/step - loss: 0.0999 - acc: 0.9799 - val_loss: 0.1033 - val_acc: 0.9802\n",
            "Epoch 19/100\n",
            "112/112 [==============================] - 0s 3ms/step - loss: 0.0994 - acc: 0.9799 - val_loss: 0.1023 - val_acc: 0.9802\n",
            "Epoch 20/100\n",
            "112/112 [==============================] - 0s 3ms/step - loss: 0.0990 - acc: 0.9799 - val_loss: 0.0937 - val_acc: 0.9802\n",
            "Epoch 21/100\n",
            "112/112 [==============================] - 0s 3ms/step - loss: 0.1002 - acc: 0.9799 - val_loss: 0.0936 - val_acc: 0.9802\n",
            "Epoch 22/100\n",
            "112/112 [==============================] - 0s 3ms/step - loss: 0.1009 - acc: 0.9799 - val_loss: 0.0971 - val_acc: 0.9802\n",
            "Epoch 23/100\n",
            "112/112 [==============================] - 0s 3ms/step - loss: 0.1049 - acc: 0.9798 - val_loss: 0.0941 - val_acc: 0.9802\n",
            "Epoch 24/100\n",
            "112/112 [==============================] - 0s 3ms/step - loss: 0.1019 - acc: 0.9799 - val_loss: 0.1085 - val_acc: 0.9802\n",
            "Epoch 25/100\n",
            "112/112 [==============================] - 0s 3ms/step - loss: 0.0976 - acc: 0.9799 - val_loss: 0.0995 - val_acc: 0.9802\n",
            "Epoch 26/100\n",
            "112/112 [==============================] - 0s 3ms/step - loss: 0.0994 - acc: 0.9799 - val_loss: 0.0956 - val_acc: 0.9802\n",
            "Epoch 27/100\n",
            "112/112 [==============================] - 0s 3ms/step - loss: 0.0981 - acc: 0.9799 - val_loss: 0.0969 - val_acc: 0.9802\n",
            "Epoch 28/100\n",
            "112/112 [==============================] - 0s 3ms/step - loss: 0.1016 - acc: 0.9799 - val_loss: 0.1124 - val_acc: 0.9802\n",
            "Epoch 29/100\n",
            "112/112 [==============================] - 0s 3ms/step - loss: 0.0983 - acc: 0.9799 - val_loss: 0.0961 - val_acc: 0.9802\n",
            "Epoch 30/100\n",
            "112/112 [==============================] - 0s 3ms/step - loss: 0.0980 - acc: 0.9799 - val_loss: 0.0952 - val_acc: 0.9802\n",
            "Epoch 31/100\n",
            "112/112 [==============================] - 0s 3ms/step - loss: 0.0975 - acc: 0.9799 - val_loss: 0.0941 - val_acc: 0.9802\n",
            "Epoch 32/100\n",
            "112/112 [==============================] - 0s 3ms/step - loss: 0.0977 - acc: 0.9799 - val_loss: 0.0944 - val_acc: 0.9802\n",
            "Epoch 33/100\n",
            "112/112 [==============================] - 0s 3ms/step - loss: 0.1016 - acc: 0.9799 - val_loss: 0.0966 - val_acc: 0.9802\n",
            "Epoch 34/100\n",
            "112/112 [==============================] - 0s 3ms/step - loss: 0.0976 - acc: 0.9799 - val_loss: 0.0941 - val_acc: 0.9802\n",
            "Epoch 35/100\n",
            "112/112 [==============================] - 0s 3ms/step - loss: 0.0967 - acc: 0.9799 - val_loss: 0.0999 - val_acc: 0.9802\n",
            "Epoch 36/100\n",
            "112/112 [==============================] - 0s 3ms/step - loss: 0.0977 - acc: 0.9799 - val_loss: 0.1022 - val_acc: 0.9802\n",
            "Epoch 37/100\n",
            "112/112 [==============================] - 0s 3ms/step - loss: 0.1009 - acc: 0.9799 - val_loss: 0.1002 - val_acc: 0.9802\n",
            "Epoch 38/100\n",
            "112/112 [==============================] - 0s 3ms/step - loss: 0.0980 - acc: 0.9799 - val_loss: 0.0956 - val_acc: 0.9802\n",
            "Epoch 39/100\n",
            "112/112 [==============================] - 0s 3ms/step - loss: 0.0969 - acc: 0.9799 - val_loss: 0.0949 - val_acc: 0.9802\n",
            "Epoch 40/100\n",
            "112/112 [==============================] - 0s 3ms/step - loss: 0.0983 - acc: 0.9799 - val_loss: 0.0943 - val_acc: 0.9802\n",
            "Epoch 41/100\n",
            "112/112 [==============================] - 0s 3ms/step - loss: 0.0971 - acc: 0.9799 - val_loss: 0.0941 - val_acc: 0.9802\n",
            "Epoch 42/100\n",
            "112/112 [==============================] - 0s 3ms/step - loss: 0.0968 - acc: 0.9799 - val_loss: 0.0983 - val_acc: 0.9802\n",
            "Epoch 43/100\n",
            "112/112 [==============================] - 0s 3ms/step - loss: 0.0973 - acc: 0.9799 - val_loss: 0.0947 - val_acc: 0.9802\n",
            "Epoch 44/100\n",
            "112/112 [==============================] - 0s 3ms/step - loss: 0.0972 - acc: 0.9799 - val_loss: 0.0937 - val_acc: 0.9802\n",
            "Epoch 45/100\n",
            "112/112 [==============================] - 0s 3ms/step - loss: 0.0977 - acc: 0.9799 - val_loss: 0.0958 - val_acc: 0.9802\n",
            "Epoch 46/100\n",
            "112/112 [==============================] - 0s 3ms/step - loss: 0.0968 - acc: 0.9799 - val_loss: 0.0938 - val_acc: 0.9802\n",
            "Epoch 47/100\n",
            "112/112 [==============================] - 0s 3ms/step - loss: 0.0990 - acc: 0.9799 - val_loss: 0.0943 - val_acc: 0.9802\n",
            "Epoch 48/100\n",
            "112/112 [==============================] - 0s 3ms/step - loss: 0.0970 - acc: 0.9799 - val_loss: 0.0962 - val_acc: 0.9802\n",
            "Epoch 49/100\n",
            "112/112 [==============================] - 0s 3ms/step - loss: 0.0976 - acc: 0.9799 - val_loss: 0.0942 - val_acc: 0.9802\n",
            "Epoch 50/100\n",
            "112/112 [==============================] - 0s 3ms/step - loss: 0.0976 - acc: 0.9799 - val_loss: 0.0968 - val_acc: 0.9802\n",
            "Epoch 51/100\n",
            "112/112 [==============================] - 0s 3ms/step - loss: 0.0963 - acc: 0.9799 - val_loss: 0.0943 - val_acc: 0.9802\n",
            "Epoch 52/100\n",
            "112/112 [==============================] - 0s 3ms/step - loss: 0.0969 - acc: 0.9799 - val_loss: 0.0943 - val_acc: 0.9802\n",
            "Epoch 53/100\n",
            "112/112 [==============================] - 0s 3ms/step - loss: 0.0971 - acc: 0.9799 - val_loss: 0.0942 - val_acc: 0.9802\n",
            "Epoch 54/100\n",
            "112/112 [==============================] - 0s 3ms/step - loss: 0.0987 - acc: 0.9799 - val_loss: 0.0985 - val_acc: 0.9802\n",
            "Epoch 55/100\n",
            "112/112 [==============================] - 0s 3ms/step - loss: 0.0979 - acc: 0.9799 - val_loss: 0.0957 - val_acc: 0.9802\n",
            "Epoch 56/100\n",
            "112/112 [==============================] - 0s 3ms/step - loss: 0.0973 - acc: 0.9799 - val_loss: 0.0943 - val_acc: 0.9802\n",
            "Epoch 57/100\n",
            "112/112 [==============================] - 0s 3ms/step - loss: 0.0991 - acc: 0.9799 - val_loss: 0.0939 - val_acc: 0.9802\n",
            "Epoch 58/100\n",
            "112/112 [==============================] - 0s 3ms/step - loss: 0.0987 - acc: 0.9799 - val_loss: 0.0944 - val_acc: 0.9802\n",
            "Epoch 59/100\n",
            "112/112 [==============================] - 0s 3ms/step - loss: 0.0963 - acc: 0.9799 - val_loss: 0.0972 - val_acc: 0.9802\n",
            "Epoch 60/100\n",
            "112/112 [==============================] - 0s 3ms/step - loss: 0.0971 - acc: 0.9799 - val_loss: 0.0939 - val_acc: 0.9802\n",
            "Epoch 61/100\n",
            "112/112 [==============================] - 0s 3ms/step - loss: 0.0970 - acc: 0.9799 - val_loss: 0.0934 - val_acc: 0.9802\n",
            "Epoch 62/100\n",
            "112/112 [==============================] - 0s 3ms/step - loss: 0.0972 - acc: 0.9799 - val_loss: 0.0939 - val_acc: 0.9802\n",
            "Epoch 63/100\n",
            "112/112 [==============================] - 0s 3ms/step - loss: 0.0971 - acc: 0.9799 - val_loss: 0.0943 - val_acc: 0.9802\n",
            "Epoch 64/100\n",
            "112/112 [==============================] - 0s 3ms/step - loss: 0.0976 - acc: 0.9799 - val_loss: 0.0943 - val_acc: 0.9802\n",
            "Epoch 65/100\n",
            "112/112 [==============================] - 0s 3ms/step - loss: 0.0973 - acc: 0.9799 - val_loss: 0.0987 - val_acc: 0.9802\n",
            "Epoch 66/100\n",
            "112/112 [==============================] - 0s 3ms/step - loss: 0.0977 - acc: 0.9799 - val_loss: 0.0935 - val_acc: 0.9802\n",
            "Epoch 67/100\n",
            "112/112 [==============================] - 0s 3ms/step - loss: 0.0969 - acc: 0.9799 - val_loss: 0.0941 - val_acc: 0.9802\n",
            "Epoch 68/100\n",
            "112/112 [==============================] - 0s 3ms/step - loss: 0.0965 - acc: 0.9799 - val_loss: 0.0954 - val_acc: 0.9802\n",
            "Epoch 69/100\n",
            "112/112 [==============================] - 0s 3ms/step - loss: 0.0980 - acc: 0.9799 - val_loss: 0.0945 - val_acc: 0.9802\n",
            "Epoch 70/100\n",
            "112/112 [==============================] - 0s 3ms/step - loss: 0.0959 - acc: 0.9799 - val_loss: 0.0958 - val_acc: 0.9802\n",
            "Epoch 71/100\n",
            "112/112 [==============================] - 0s 3ms/step - loss: 0.0970 - acc: 0.9799 - val_loss: 0.0956 - val_acc: 0.9802\n",
            "Epoch 72/100\n",
            "112/112 [==============================] - 0s 3ms/step - loss: 0.0965 - acc: 0.9799 - val_loss: 0.0964 - val_acc: 0.9802\n",
            "Epoch 73/100\n",
            "112/112 [==============================] - 0s 3ms/step - loss: 0.0982 - acc: 0.9799 - val_loss: 0.0970 - val_acc: 0.9802\n",
            "Epoch 74/100\n",
            "112/112 [==============================] - 0s 3ms/step - loss: 0.0965 - acc: 0.9799 - val_loss: 0.0936 - val_acc: 0.9802\n",
            "Epoch 75/100\n",
            "112/112 [==============================] - 0s 3ms/step - loss: 0.0967 - acc: 0.9799 - val_loss: 0.1082 - val_acc: 0.9802\n",
            "Epoch 76/100\n",
            "112/112 [==============================] - 0s 3ms/step - loss: 0.0988 - acc: 0.9799 - val_loss: 0.0934 - val_acc: 0.9802\n",
            "Epoch 77/100\n",
            "112/112 [==============================] - 0s 3ms/step - loss: 0.0958 - acc: 0.9799 - val_loss: 0.0944 - val_acc: 0.9802\n",
            "Epoch 78/100\n",
            "112/112 [==============================] - 0s 3ms/step - loss: 0.0972 - acc: 0.9799 - val_loss: 0.0933 - val_acc: 0.9802\n",
            "Epoch 79/100\n",
            "112/112 [==============================] - 0s 3ms/step - loss: 0.0960 - acc: 0.9799 - val_loss: 0.0933 - val_acc: 0.9802\n",
            "Epoch 80/100\n",
            "112/112 [==============================] - 0s 3ms/step - loss: 0.0975 - acc: 0.9799 - val_loss: 0.0936 - val_acc: 0.9802\n",
            "Epoch 81/100\n",
            "112/112 [==============================] - 0s 3ms/step - loss: 0.0967 - acc: 0.9799 - val_loss: 0.0969 - val_acc: 0.9802\n",
            "Epoch 82/100\n",
            "112/112 [==============================] - 0s 3ms/step - loss: 0.0960 - acc: 0.9799 - val_loss: 0.0982 - val_acc: 0.9802\n",
            "Epoch 83/100\n",
            "112/112 [==============================] - 0s 3ms/step - loss: 0.0960 - acc: 0.9799 - val_loss: 0.0933 - val_acc: 0.9802\n",
            "Epoch 84/100\n",
            "112/112 [==============================] - 0s 3ms/step - loss: 0.0965 - acc: 0.9799 - val_loss: 0.0931 - val_acc: 0.9802\n",
            "Epoch 85/100\n",
            "112/112 [==============================] - 0s 3ms/step - loss: 0.0974 - acc: 0.9799 - val_loss: 0.0934 - val_acc: 0.9802\n",
            "Epoch 86/100\n",
            "112/112 [==============================] - 0s 3ms/step - loss: 0.0963 - acc: 0.9799 - val_loss: 0.1027 - val_acc: 0.9802\n",
            "Epoch 87/100\n",
            "112/112 [==============================] - 0s 3ms/step - loss: 0.0964 - acc: 0.9799 - val_loss: 0.0936 - val_acc: 0.9802\n",
            "Epoch 88/100\n",
            "112/112 [==============================] - 0s 3ms/step - loss: 0.0975 - acc: 0.9799 - val_loss: 0.1008 - val_acc: 0.9802\n",
            "Epoch 89/100\n",
            "112/112 [==============================] - 0s 3ms/step - loss: 0.0979 - acc: 0.9799 - val_loss: 0.0962 - val_acc: 0.9802\n",
            "Epoch 90/100\n",
            "112/112 [==============================] - 0s 3ms/step - loss: 0.0977 - acc: 0.9799 - val_loss: 0.1003 - val_acc: 0.9802\n",
            "Epoch 91/100\n",
            "112/112 [==============================] - 0s 3ms/step - loss: 0.0963 - acc: 0.9799 - val_loss: 0.0940 - val_acc: 0.9802\n",
            "Epoch 92/100\n",
            "112/112 [==============================] - 0s 3ms/step - loss: 0.0957 - acc: 0.9799 - val_loss: 0.0946 - val_acc: 0.9802\n",
            "Epoch 93/100\n",
            "112/112 [==============================] - 0s 3ms/step - loss: 0.0959 - acc: 0.9799 - val_loss: 0.0931 - val_acc: 0.9802\n",
            "Epoch 94/100\n",
            "112/112 [==============================] - 0s 3ms/step - loss: 0.0969 - acc: 0.9799 - val_loss: 0.0933 - val_acc: 0.9802\n",
            "Epoch 95/100\n",
            "112/112 [==============================] - 0s 3ms/step - loss: 0.0970 - acc: 0.9799 - val_loss: 0.0983 - val_acc: 0.9802\n",
            "Epoch 96/100\n",
            "112/112 [==============================] - 0s 3ms/step - loss: 0.0967 - acc: 0.9799 - val_loss: 0.0937 - val_acc: 0.9802\n",
            "Epoch 97/100\n",
            "112/112 [==============================] - 0s 3ms/step - loss: 0.0970 - acc: 0.9799 - val_loss: 0.0956 - val_acc: 0.9802\n",
            "Epoch 98/100\n",
            "112/112 [==============================] - 0s 3ms/step - loss: 0.0971 - acc: 0.9799 - val_loss: 0.0940 - val_acc: 0.9802\n",
            "Epoch 99/100\n",
            "112/112 [==============================] - 0s 3ms/step - loss: 0.0957 - acc: 0.9799 - val_loss: 0.0955 - val_acc: 0.9802\n",
            "Epoch 100/100\n",
            "112/112 [==============================] - 0s 3ms/step - loss: 0.0965 - acc: 0.9799 - val_loss: 0.0934 - val_acc: 0.9802\n"
          ],
          "name": "stdout"
        }
      ]
    },
    {
      "cell_type": "code",
      "metadata": {
        "colab": {
          "base_uri": "https://localhost:8080/"
        },
        "id": "w_Dkrn0JC1yt",
        "outputId": "11152cbb-2f30-498c-de7d-04b1a8d28b0c"
      },
      "source": [
        "score = model.evaluate(X_test, y_test, verbose=1)\n",
        "\n",
        "print(\"Test Score:\", score[0])\n",
        "print(\"Test Accuracy:\", score[1]*100 ,' %')"
      ],
      "execution_count": null,
      "outputs": [
        {
          "output_type": "stream",
          "text": [
            "273/273 [==============================] - 0s 2ms/step - loss: 0.0946 - acc: 0.9799\n",
            "Test Score: 0.09456254541873932\n",
            "Test Accuracy: 97.99357652664185  %\n"
          ],
          "name": "stdout"
        }
      ]
    },
    {
      "cell_type": "code",
      "metadata": {
        "colab": {
          "base_uri": "https://localhost:8080/",
          "height": 295
        },
        "id": "Yd54semJG3F6",
        "outputId": "7a0c7900-483a-474a-cd0f-8cc15478b46d"
      },
      "source": [
        "plt.plot(history.history['acc'])\n",
        "plt.plot(history.history['val_acc'])\n",
        "plt.title('model accuracy')\n",
        "plt.ylabel('accuracy')\n",
        "plt.xlabel('epoch')\n",
        "plt.legend(['train', 'val'], loc='upper left')\n",
        "plt.show()"
      ],
      "execution_count": null,
      "outputs": [
        {
          "output_type": "display_data",
          "data": {
            "image/png": "[encoded data removed]",
            "text/plain": [
              "<Figure size 432x288 with 1 Axes>"
            ]
          },
          "metadata": {
            "tags": [],
            "needs_background": "light"
          }
        }
      ]
    },
    {
      "cell_type": "code",
      "metadata": {
        "colab": {
          "base_uri": "https://localhost:8080/"
        },
        "id": "r3t7sBuOGgUs",
        "outputId": "90253960-7923-4cb6-fcff-6500a5fbf297"
      },
      "source": [
        "train_sc=model.evaluate(X_train,y_train,verbose=1)\n",
        "print('Train acc',train_sc[1]*100)"
      ],
      "execution_count": null,
      "outputs": [
        {
          "output_type": "stream",
          "text": [
            "1091/1091 [==============================] - 2s 2ms/step - loss: 0.0946 - acc: 0.9800\n",
            "Train acc 97.99925684928894\n"
          ],
          "name": "stdout"
        }
      ]
    },
    {
      "cell_type": "code",
      "metadata": {
        "id": "dwgZ04HWIRxH"
      },
      "source": [
        ""
      ],
      "execution_count": null,
      "outputs": []
    }
  ]
}